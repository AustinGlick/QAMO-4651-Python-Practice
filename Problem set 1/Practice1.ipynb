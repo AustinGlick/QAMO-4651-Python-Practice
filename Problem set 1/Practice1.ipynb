{
 "cells": [
  {
   "cell_type": "code",
   "execution_count": 2,
   "id": "44df8aa0",
   "metadata": {},
   "outputs": [],
   "source": [
    "import pandas as pd\n",
    "import numpy as np\n",
    "import pprint\n",
    "import matplotlib.pyplot as plt\n",
    "\n"
   ]
  },
  {
   "cell_type": "code",
   "execution_count": null,
   "id": "ab853b46",
   "metadata": {},
   "outputs": [],
   "source": [
    "\n",
    "\n",
    "df = pd.read_stata('APPLE.DTA')"
   ]
  },
  {
   "cell_type": "markdown",
   "id": "00301890",
   "metadata": {},
   "source": []
  },
  {
   "cell_type": "code",
   "execution_count": 4,
   "id": "32e434f6",
   "metadata": {},
   "outputs": [
    {
     "data": {
      "text/plain": [
       "<bound method NDFrame.describe of         id  educ    date state  regprc  ecoprc  inseason  hhsize  male  \\\n",
       "0    10002    16  111597    SD    1.19    1.19         1       4     0   \n",
       "1    10004    16  121897    KS    0.59    0.79         0       1     0   \n",
       "2    10034    18  111097    MI    0.59    0.99         1       3     0   \n",
       "3    10035    12  111597    TN    0.89    1.09         1       2     1   \n",
       "4    10039    15  122997    NY    0.89    1.09         0       1     1   \n",
       "..     ...   ...     ...   ...     ...     ...       ...     ...   ...   \n",
       "655  13892    14   20298    MD    0.59    0.59         0       5     0   \n",
       "656  13893    16   20398    OH    0.59    0.59         0       4     0   \n",
       "657  13908    16   20398    IN    0.89    1.09         0       2     0   \n",
       "658  13916    12   20298    NY    0.59    0.59         0       1     0   \n",
       "659  13921    18   20798    MA    1.19    1.39         0       3     1   \n",
       "\n",
       "     faminc  age    reglbs    ecolbs  numlt5  num5_17  num18_64  numgt64  \n",
       "0        45   43  2.000000  2.000000       0        1         3        0  \n",
       "1        65   37  0.000000  2.000000       0        0         1        0  \n",
       "2        65   44  0.000000  2.666667       0        2         1        0  \n",
       "3        55   55  3.000000  0.000000       0        0         2        0  \n",
       "4        25   22  0.000000  3.000000       0        0         1        0  \n",
       "..      ...  ...       ...       ...     ...      ...       ...      ...  \n",
       "655      65   37  1.333333  1.333333       1        2         2        0  \n",
       "656      65   47  0.000000  2.000000       0        2         2        0  \n",
       "657      75   51  1.000000  0.000000       0        0         2        0  \n",
       "658      15   45  0.000000  2.666667       0        0         1        0  \n",
       "659      25   24  2.000000  0.000000       0        0         3        0  \n",
       "\n",
       "[660 rows x 17 columns]>"
      ]
     },
     "execution_count": 4,
     "metadata": {},
     "output_type": "execute_result"
    }
   ],
   "source": [
    "df.describe"
   ]
  },
  {
   "cell_type": "code",
   "execution_count": 5,
   "id": "7b4d4e53",
   "metadata": {},
   "outputs": [
    {
     "data": {
      "text/plain": [
       "Index(['id', 'educ', 'date', 'state', 'regprc', 'ecoprc', 'inseason', 'hhsize',\n",
       "       'male', 'faminc', 'age', 'reglbs', 'ecolbs', 'numlt5', 'num5_17',\n",
       "       'num18_64', 'numgt64'],\n",
       "      dtype='object')"
      ]
     },
     "execution_count": 5,
     "metadata": {},
     "output_type": "execute_result"
    }
   ],
   "source": [
    "df.columns"
   ]
  },
  {
   "cell_type": "code",
   "execution_count": 6,
   "id": "18741233",
   "metadata": {},
   "outputs": [
    {
     "data": {
      "text/html": [
       "<div>\n",
       "<style scoped>\n",
       "    .dataframe tbody tr th:only-of-type {\n",
       "        vertical-align: middle;\n",
       "    }\n",
       "\n",
       "    .dataframe tbody tr th {\n",
       "        vertical-align: top;\n",
       "    }\n",
       "\n",
       "    .dataframe thead tr th {\n",
       "        text-align: left;\n",
       "    }\n",
       "\n",
       "    .dataframe thead tr:last-of-type th {\n",
       "        text-align: right;\n",
       "    }\n",
       "</style>\n",
       "<table border=\"1\" class=\"dataframe\">\n",
       "  <thead>\n",
       "    <tr>\n",
       "      <th></th>\n",
       "      <th colspan=\"8\" halign=\"left\">ecoprc</th>\n",
       "      <th colspan=\"8\" halign=\"left\">ecolbs</th>\n",
       "    </tr>\n",
       "    <tr>\n",
       "      <th></th>\n",
       "      <th>count</th>\n",
       "      <th>mean</th>\n",
       "      <th>std</th>\n",
       "      <th>min</th>\n",
       "      <th>25%</th>\n",
       "      <th>50%</th>\n",
       "      <th>75%</th>\n",
       "      <th>max</th>\n",
       "      <th>count</th>\n",
       "      <th>mean</th>\n",
       "      <th>std</th>\n",
       "      <th>min</th>\n",
       "      <th>25%</th>\n",
       "      <th>50%</th>\n",
       "      <th>75%</th>\n",
       "      <th>max</th>\n",
       "    </tr>\n",
       "    <tr>\n",
       "      <th>male</th>\n",
       "      <th></th>\n",
       "      <th></th>\n",
       "      <th></th>\n",
       "      <th></th>\n",
       "      <th></th>\n",
       "      <th></th>\n",
       "      <th></th>\n",
       "      <th></th>\n",
       "      <th></th>\n",
       "      <th></th>\n",
       "      <th></th>\n",
       "      <th></th>\n",
       "      <th></th>\n",
       "      <th></th>\n",
       "      <th></th>\n",
       "      <th></th>\n",
       "    </tr>\n",
       "  </thead>\n",
       "  <tbody>\n",
       "    <tr>\n",
       "      <th>0</th>\n",
       "      <td>487.0</td>\n",
       "      <td>1.092875</td>\n",
       "      <td>0.297161</td>\n",
       "      <td>0.59</td>\n",
       "      <td>0.89</td>\n",
       "      <td>1.09</td>\n",
       "      <td>1.29</td>\n",
       "      <td>1.59</td>\n",
       "      <td>487.0</td>\n",
       "      <td>1.476728</td>\n",
       "      <td>2.502953</td>\n",
       "      <td>0.0</td>\n",
       "      <td>0.0</td>\n",
       "      <td>1.0</td>\n",
       "      <td>2.0</td>\n",
       "      <td>42.0</td>\n",
       "    </tr>\n",
       "    <tr>\n",
       "      <th>1</th>\n",
       "      <td>173.0</td>\n",
       "      <td>1.049538</td>\n",
       "      <td>0.289514</td>\n",
       "      <td>0.59</td>\n",
       "      <td>0.79</td>\n",
       "      <td>1.09</td>\n",
       "      <td>1.29</td>\n",
       "      <td>1.59</td>\n",
       "      <td>173.0</td>\n",
       "      <td>1.466281</td>\n",
       "      <td>2.596333</td>\n",
       "      <td>0.0</td>\n",
       "      <td>0.0</td>\n",
       "      <td>1.0</td>\n",
       "      <td>2.0</td>\n",
       "      <td>21.0</td>\n",
       "    </tr>\n",
       "  </tbody>\n",
       "</table>\n",
       "</div>"
      ],
      "text/plain": [
       "     ecoprc                                                   ecolbs  \\\n",
       "      count      mean       std   min   25%   50%   75%   max  count   \n",
       "male                                                                   \n",
       "0     487.0  1.092875  0.297161  0.59  0.89  1.09  1.29  1.59  487.0   \n",
       "1     173.0  1.049538  0.289514  0.59  0.79  1.09  1.29  1.59  173.0   \n",
       "\n",
       "                                                    \n",
       "          mean       std  min  25%  50%  75%   max  \n",
       "male                                                \n",
       "0     1.476728  2.502953  0.0  0.0  1.0  2.0  42.0  \n",
       "1     1.466281  2.596333  0.0  0.0  1.0  2.0  21.0  "
      ]
     },
     "execution_count": 6,
     "metadata": {},
     "output_type": "execute_result"
    }
   ],
   "source": [
    "df.groupby('male')[['ecoprc','ecolbs']].describe()"
   ]
  },
  {
   "cell_type": "code",
   "execution_count": 7,
   "id": "673fac60",
   "metadata": {},
   "outputs": [
    {
     "data": {
      "text/html": [
       "<div>\n",
       "<style scoped>\n",
       "    .dataframe tbody tr th:only-of-type {\n",
       "        vertical-align: middle;\n",
       "    }\n",
       "\n",
       "    .dataframe tbody tr th {\n",
       "        vertical-align: top;\n",
       "    }\n",
       "\n",
       "    .dataframe thead tr th {\n",
       "        text-align: left;\n",
       "    }\n",
       "\n",
       "    .dataframe thead tr:last-of-type th {\n",
       "        text-align: right;\n",
       "    }\n",
       "</style>\n",
       "<table border=\"1\" class=\"dataframe\">\n",
       "  <thead>\n",
       "    <tr>\n",
       "      <th></th>\n",
       "      <th colspan=\"8\" halign=\"left\">regprc</th>\n",
       "      <th colspan=\"8\" halign=\"left\">reglbs</th>\n",
       "    </tr>\n",
       "    <tr>\n",
       "      <th></th>\n",
       "      <th>count</th>\n",
       "      <th>mean</th>\n",
       "      <th>std</th>\n",
       "      <th>min</th>\n",
       "      <th>25%</th>\n",
       "      <th>50%</th>\n",
       "      <th>75%</th>\n",
       "      <th>max</th>\n",
       "      <th>count</th>\n",
       "      <th>mean</th>\n",
       "      <th>std</th>\n",
       "      <th>min</th>\n",
       "      <th>25%</th>\n",
       "      <th>50%</th>\n",
       "      <th>75%</th>\n",
       "      <th>max</th>\n",
       "    </tr>\n",
       "    <tr>\n",
       "      <th>male</th>\n",
       "      <th></th>\n",
       "      <th></th>\n",
       "      <th></th>\n",
       "      <th></th>\n",
       "      <th></th>\n",
       "      <th></th>\n",
       "      <th></th>\n",
       "      <th></th>\n",
       "      <th></th>\n",
       "      <th></th>\n",
       "      <th></th>\n",
       "      <th></th>\n",
       "      <th></th>\n",
       "      <th></th>\n",
       "      <th></th>\n",
       "      <th></th>\n",
       "    </tr>\n",
       "  </thead>\n",
       "  <tbody>\n",
       "    <tr>\n",
       "      <th>0</th>\n",
       "      <td>487.0</td>\n",
       "      <td>0.883840</td>\n",
       "      <td>0.244871</td>\n",
       "      <td>0.59</td>\n",
       "      <td>0.59</td>\n",
       "      <td>0.89</td>\n",
       "      <td>1.19</td>\n",
       "      <td>1.19</td>\n",
       "      <td>487.0</td>\n",
       "      <td>1.220739</td>\n",
       "      <td>2.654989</td>\n",
       "      <td>0.0</td>\n",
       "      <td>0.0</td>\n",
       "      <td>0.000000</td>\n",
       "      <td>2.0</td>\n",
       "      <td>42.0</td>\n",
       "    </tr>\n",
       "    <tr>\n",
       "      <th>1</th>\n",
       "      <td>173.0</td>\n",
       "      <td>0.879595</td>\n",
       "      <td>0.244013</td>\n",
       "      <td>0.59</td>\n",
       "      <td>0.59</td>\n",
       "      <td>0.89</td>\n",
       "      <td>1.19</td>\n",
       "      <td>1.19</td>\n",
       "      <td>173.0</td>\n",
       "      <td>1.455684</td>\n",
       "      <td>3.533153</td>\n",
       "      <td>0.0</td>\n",
       "      <td>0.0</td>\n",
       "      <td>0.666667</td>\n",
       "      <td>2.0</td>\n",
       "      <td>42.0</td>\n",
       "    </tr>\n",
       "  </tbody>\n",
       "</table>\n",
       "</div>"
      ],
      "text/plain": [
       "     regprc                                                   reglbs  \\\n",
       "      count      mean       std   min   25%   50%   75%   max  count   \n",
       "male                                                                   \n",
       "0     487.0  0.883840  0.244871  0.59  0.59  0.89  1.19  1.19  487.0   \n",
       "1     173.0  0.879595  0.244013  0.59  0.59  0.89  1.19  1.19  173.0   \n",
       "\n",
       "                                                         \n",
       "          mean       std  min  25%       50%  75%   max  \n",
       "male                                                     \n",
       "0     1.220739  2.654989  0.0  0.0  0.000000  2.0  42.0  \n",
       "1     1.455684  3.533153  0.0  0.0  0.666667  2.0  42.0  "
      ]
     },
     "execution_count": 7,
     "metadata": {},
     "output_type": "execute_result"
    }
   ],
   "source": [
    "df.groupby('male')[['regprc','reglbs']].describe()"
   ]
  },
  {
   "cell_type": "code",
   "execution_count": 8,
   "id": "0d26232a",
   "metadata": {},
   "outputs": [
    {
     "name": "stdout",
     "output_type": "stream",
     "text": [
      "{'age': 'in years',\n",
      " 'date': 'date:  month/day/year',\n",
      " 'ecolbs': 'quantity ecolabeled apples, lbs',\n",
      " 'ecoprc': 'price of ecolabeled apples',\n",
      " 'educ': 'years schooling',\n",
      " 'faminc': 'family income, thousands',\n",
      " 'hhsize': 'household size',\n",
      " 'id': 'respondent identifier',\n",
      " 'inseason': '=1 if interviewed in Nov.',\n",
      " 'male': '=1 if male',\n",
      " 'num18_64': '# in household 18 to 64',\n",
      " 'num5_17': '# in household 5 to 17',\n",
      " 'numgt64': '# in household older than 64',\n",
      " 'numlt5': '# in household younger than 5',\n",
      " 'reglbs': 'quantity regular apples, pounds',\n",
      " 'regprc': 'price of regular apples',\n",
      " 'state': 'home state'}\n"
     ]
    }
   ],
   "source": [
    "#Pulling data from stata which doesnt fit in Pandas df\n",
    "\n",
    "reader = pd.io.stata.StataReader('APPLE.DTA')\n",
    "\n",
    "variable_descriptions = reader.variable_labels()\n",
    "\n",
    "pprint.pprint(variable_descriptions)"
   ]
  },
  {
   "cell_type": "code",
   "execution_count": 9,
   "id": "1eae6c80",
   "metadata": {},
   "outputs": [
    {
     "data": {
      "text/html": [
       "<div>\n",
       "<style scoped>\n",
       "    .dataframe tbody tr th:only-of-type {\n",
       "        vertical-align: middle;\n",
       "    }\n",
       "\n",
       "    .dataframe tbody tr th {\n",
       "        vertical-align: top;\n",
       "    }\n",
       "\n",
       "    .dataframe thead th {\n",
       "        text-align: right;\n",
       "    }\n",
       "</style>\n",
       "<table border=\"1\" class=\"dataframe\">\n",
       "  <thead>\n",
       "    <tr style=\"text-align: right;\">\n",
       "      <th></th>\n",
       "      <th>reglbs</th>\n",
       "      <th>regprc</th>\n",
       "      <th>ecolbs</th>\n",
       "      <th>ecoprc</th>\n",
       "      <th>income</th>\n",
       "    </tr>\n",
       "  </thead>\n",
       "  <tbody>\n",
       "    <tr>\n",
       "      <th>reglbs</th>\n",
       "      <td>1.000000</td>\n",
       "      <td>-0.057797</td>\n",
       "      <td>-0.163024</td>\n",
       "      <td>-0.020411</td>\n",
       "      <td>0.528228</td>\n",
       "    </tr>\n",
       "    <tr>\n",
       "      <th>regprc</th>\n",
       "      <td>-0.057797</td>\n",
       "      <td>1.000000</td>\n",
       "      <td>0.008663</td>\n",
       "      <td>0.830759</td>\n",
       "      <td>0.161439</td>\n",
       "    </tr>\n",
       "    <tr>\n",
       "      <th>ecolbs</th>\n",
       "      <td>-0.163024</td>\n",
       "      <td>0.008663</td>\n",
       "      <td>1.000000</td>\n",
       "      <td>-0.098912</td>\n",
       "      <td>0.698252</td>\n",
       "    </tr>\n",
       "    <tr>\n",
       "      <th>ecoprc</th>\n",
       "      <td>-0.020411</td>\n",
       "      <td>0.830759</td>\n",
       "      <td>-0.098912</td>\n",
       "      <td>1.000000</td>\n",
       "      <td>0.104978</td>\n",
       "    </tr>\n",
       "    <tr>\n",
       "      <th>income</th>\n",
       "      <td>0.528228</td>\n",
       "      <td>0.161439</td>\n",
       "      <td>0.698252</td>\n",
       "      <td>0.104978</td>\n",
       "      <td>1.000000</td>\n",
       "    </tr>\n",
       "  </tbody>\n",
       "</table>\n",
       "</div>"
      ],
      "text/plain": [
       "          reglbs    regprc    ecolbs    ecoprc    income\n",
       "reglbs  1.000000 -0.057797 -0.163024 -0.020411  0.528228\n",
       "regprc -0.057797  1.000000  0.008663  0.830759  0.161439\n",
       "ecolbs -0.163024  0.008663  1.000000 -0.098912  0.698252\n",
       "ecoprc -0.020411  0.830759 -0.098912  1.000000  0.104978\n",
       "income  0.528228  0.161439  0.698252  0.104978  1.000000"
      ]
     },
     "execution_count": 9,
     "metadata": {},
     "output_type": "execute_result"
    }
   ],
   "source": [
    "\n",
    "df['income'] = (df['reglbs'] * df['regprc']) + (df['ecolbs'] * df['ecoprc'])\n",
    "\n",
    "incomedf= df[['reglbs', 'regprc', 'ecolbs', 'ecoprc', 'income']]\n",
    "incomedf.corr()\n",
    "\n",
    "\n"
   ]
  },
  {
   "cell_type": "code",
   "execution_count": 16,
   "id": "3b6f18a9",
   "metadata": {},
   "outputs": [
    {
     "data": {
      "text/plain": [
       "(array([649.,   8.,   0.,   2.,   0.,   1.]),\n",
       " array([ 0.,  7., 14., 21., 28., 35., 42.]),\n",
       " <BarContainer object of 6 artists>)"
      ]
     },
     "execution_count": 16,
     "metadata": {},
     "output_type": "execute_result"
    },
    {
     "data": {
      "image/png": "[encoded data removed]",
      "text/plain": [
       "<Figure size 640x480 with 1 Axes>"
      ]
     },
     "metadata": {},
     "output_type": "display_data"
    }
   ],
   "source": [
    "plt.hist(df.reglbs,bins=6, alpha = .5, rwidth = .4)\n",
    "plt.hist(df.ecolbs,bins=6, alpha = .3, rwidth = .4, align = 'right')"
   ]
  },
  {
   "cell_type": "code",
   "execution_count": 19,
   "id": "f0f3bb70",
   "metadata": {},
   "outputs": [
    {
     "data": {
      "text/plain": [
       "(array([431., 169.,  45.,   1.,   2.,   6.]),\n",
       " array([ 0.  ,  1.75,  3.5 ,  5.25,  7.  ,  8.75, 10.5 ]),\n",
       " <BarContainer object of 6 artists>)"
      ]
     },
     "execution_count": 19,
     "metadata": {},
     "output_type": "execute_result"
    },
    {
     "data": {
      "image/png": "[encoded data removed]",
      "text/plain": [
       "<Figure size 640x480 with 1 Axes>"
      ]
     },
     "metadata": {},
     "output_type": "display_data"
    }
   ],
   "source": [
    "filterdf = df[(df.reglbs<20) & (df.ecolbs<20)]\n",
    "plt.hist(filterdf.reglbs,bins=6, alpha = .5, rwidth = .4)\n",
    "plt.hist(filterdf.ecolbs,bins=6, alpha = .3, rwidth = .4, align = 'right')"
   ]
  },
  {
   "cell_type": "code",
   "execution_count": 23,
   "id": "19ddaa2d",
   "metadata": {},
   "outputs": [
    {
     "data": {
      "text/plain": [
       "<matplotlib.collections.PathCollection at 0x14a225334d0>"
      ]
     },
     "execution_count": 23,
     "metadata": {},
     "output_type": "execute_result"
    },
    {
     "data": {
      "image/png": "[encoded data removed]",
      "text/plain": [
       "<Figure size 640x480 with 1 Axes>"
      ]
     },
     "metadata": {},
     "output_type": "display_data"
    }
   ],
   "source": [
    "plt.scatter(df.ecolbs,df.ecoprc,s=10)"
   ]
  }
 ],
 "metadata": {
  "kernelspec": {
   "display_name": "Python 3",
   "language": "python",
   "name": "python3"
  },
  "language_info": {
   "codemirror_mode": {
    "name": "ipython",
    "version": 3
   },
   "file_extension": ".py",
   "mimetype": "text/x-python",
   "name": "python",
   "nbconvert_exporter": "python",
   "pygments_lexer": "ipython3",
   "version": "3.13.5"
  }
 },
 "nbformat": 4,
 "nbformat_minor": 5
}
